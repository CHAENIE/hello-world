{
 "cells": [
  {
   "cell_type": "code",
   "execution_count": 2,
   "metadata": {},
   "outputs": [
    {
     "name": "stdout",
     "output_type": "stream",
     "text": [
      "두 자리 정수 두 개를 입력하세요 : 23 45\n",
      "23,45 : 일치하는 숫자가 없음\n"
     ]
    }
   ],
   "source": [
    "num1,num2=map(int,input(\"두 자리 정수 두 개를 입력하세요 : \").split())\n",
    "\n",
    "one1=num1%10 ##나머지\n",
    "one2=num2%10\n",
    "ten1=num1//10 ##몫\n",
    "ten2=num2//10\n",
    "\n",
    "if one1==ten2 and one2==ten1:\n",
    "    print(f\"{num1},{num2} : 두개의 숫자가 일치, 자리 값만 다른 정수\")\n",
    "elif one1==one2 or ten1==ten2:\n",
    "    print(f\"{num1},{num2} : 하나의 숫자가 일치(자리 값 같음)\")\n",
    "elif one1==ten2 or one2==ten1:\n",
    "    print(f\"{num1},{num2} : 하나의 숫자가 일치(자리 값 다름)\")\n",
    "else:\n",
    "    print(f\"{num1},{num2} : 일치하는 숫자가 없음\")"
   ]
  },
  {
   "cell_type": "code",
   "execution_count": null,
   "metadata": {},
   "outputs": [],
   "source": []
  }
 ],
 "metadata": {
  "kernelspec": {
   "display_name": "Python 3",
   "language": "python",
   "name": "python3"
  },
  "language_info": {
   "codemirror_mode": {
    "name": "ipython",
    "version": 3
   },
   "file_extension": ".py",
   "mimetype": "text/x-python",
   "name": "python",
   "nbconvert_exporter": "python",
   "pygments_lexer": "ipython3",
   "version": "3.7.7"
  }
 },
 "nbformat": 4,
 "nbformat_minor": 4
}
