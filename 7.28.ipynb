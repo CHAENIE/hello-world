{
 "cells": [
  {
   "cell_type": "code",
   "execution_count": 1,
   "metadata": {},
   "outputs": [
    {
     "name": "stdout",
     "output_type": "stream",
     "text": [
      "Ready? Press Enter Key!\n",
      "*Question # 1\n",
      "promoting\n",
      "promoting\n",
      "Pass!\n",
      "*Question # 2\n",
      "budgets\n",
      "budgets\n",
      "Pass!\n",
      "*Question # 3\n",
      "fundamentals\n",
      "fundamentals\n",
      "Pass!\n",
      "*Question # 4\n",
      "apt\n",
      "apt\n",
      "Pass!\n",
      "*Question # 5\n",
      "bitch\n",
      "bitch\n",
      "Pass!\n",
      "*Question # 6\n",
      "ob\n",
      "ob\n",
      "Pass!\n",
      "*Question # 7\n",
      "guys\n",
      "guys\n",
      "Pass!\n",
      "*Question # 8\n",
      "proved\n",
      "proved\n",
      "Pass!\n",
      "*Question # 9\n",
      "partial\n",
      "partial\n",
      "Pass!\n",
      "*Question # 10\n",
      "worst\n",
      "worst\n",
      "Pass!\n",
      "\n",
      "----------------\n",
      "결과 : 합격\n",
      "게임 시간 :  65.22 초  정답 개수 : 10\n"
     ]
    }
   ],
   "source": [
    "import random\n",
    "import time\n",
    "import winsound\n",
    "\n",
    "words=[]\n",
    "\n",
    "n=1\n",
    "cor_cnt=0\n",
    "\n",
    "with open('./resourse/word.txt','r') as f:\n",
    "    for c in f:\n",
    "        words.append(c.strip())\n",
    "        \n",
    "input(\"Ready? Press Enter Key!\")\n",
    "\n",
    "start=time.time()\n",
    "\n",
    "while n<=10:\n",
    "    random.shuffle(words)\n",
    "    q=random.choice(words)\n",
    "    \n",
    "    print(\"*Question # {}\".format(n))\n",
    "    print(q)\n",
    "    \n",
    "    x=input()\n",
    "    if str(q).strip()==str(x).strip():\n",
    "        winsound.PlaySound(\n",
    "            './sound/good.wav',\n",
    "            winsound.SND_FILENAME\n",
    "        )\n",
    "        print(\"Pass!\")\n",
    "        cor_cnt+=1\n",
    "        \n",
    "    else:\n",
    "        winsound.PlaySound(\n",
    "            './sound/bad.wav',\n",
    "            winsound.SND_FILENAME\n",
    "        )\n",
    "        print(\"Wrong!\")\n",
    "        \n",
    "    n+=1\n",
    "    \n",
    "end=time.time()\n",
    "et=end-start\n",
    "\n",
    "et=format(et,\".2f\")\n",
    "\n",
    "print()\n",
    "print('----------------')\n",
    "\n",
    "if cor_cnt>=7:\n",
    "    print(\"결과 : 합격\")\n",
    "else:\n",
    "    print(\"불합격\")\n",
    "\n",
    "print(\"게임 시간 : \",et,\"초\",\" 정답 개수 : {}\".format(cor_cnt))"
   ]
  },
  {
   "cell_type": "code",
   "execution_count": 2,
   "metadata": {},
   "outputs": [
    {
     "name": "stdout",
     "output_type": "stream",
     "text": [
      "세 개의 정수를 입력하세요 : 10 20 15\n",
      "오름차순 정렬: 10 15 20\n"
     ]
    }
   ],
   "source": [
    "n1,n2,n3=map(int,input(\"세 개의 정수를 입력하세요 : \").split())\n",
    "if n1<n2:\n",
    "    if n2<n3:\n",
    "        print(\"오름차순 정렬:\",n1,n2,n3)\n",
    "    elif n3<n1:\n",
    "        print(\"오름차순 정렬:\",n3,n1,n2)\n",
    "    else:\n",
    "        print(\"오름차순 정렬:\",n1,n3,n2)\n",
    "elif n2<n1:\n",
    "    if n1<n3:\n",
    "        print(\"오름차순 정렬:\",n2,n1,n3)\n",
    "    elif n3<n2:\n",
    "        print(\"오름차순 정렬:\",n3,n2,n1)\n",
    "    else:\n",
    "        print(\"오름차순 정렬:\",n2,n3,n1)"
   ]
  },
  {
   "cell_type": "code",
   "execution_count": 3,
   "metadata": {},
   "outputs": [
    {
     "name": "stdout",
     "output_type": "stream",
     "text": [
      "연도를 입력하세요(윤년) : 2020\n",
      "2020 : 윤년\n"
     ]
    }
   ],
   "source": [
    "year=int(input(\"연도를 입력하세요(윤년) : \"))\n",
    "\n",
    "if year%400==0:\n",
    "    print(f\"{year} : 윤년\")\n",
    "elif year%4==0 and year%100!=0:\n",
    "    print(f\"{year} : 윤년\")\n",
    "else:\n",
    "    print(f\"{year} : 윤년이 아닙니다\")"
   ]
  },
  {
   "cell_type": "code",
   "execution_count": null,
   "metadata": {},
   "outputs": [],
   "source": []
  },
  {
   "cell_type": "code",
   "execution_count": null,
   "metadata": {},
   "outputs": [],
   "source": []
  },
  {
   "cell_type": "code",
   "execution_count": null,
   "metadata": {},
   "outputs": [],
   "source": []
  }
 ],
 "metadata": {
  "kernelspec": {
   "display_name": "Python 3",
   "language": "python",
   "name": "python3"
  },
  "language_info": {
   "codemirror_mode": {
    "name": "ipython",
    "version": 3
   },
   "file_extension": ".py",
   "mimetype": "text/x-python",
   "name": "python",
   "nbconvert_exporter": "python",
   "pygments_lexer": "ipython3",
   "version": "3.7.7"
  }
 },
 "nbformat": 4,
 "nbformat_minor": 4
}
