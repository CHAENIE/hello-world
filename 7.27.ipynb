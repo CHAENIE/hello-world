{
 "cells": [
  {
   "cell_type": "code",
   "execution_count": 1,
   "metadata": {},
   "outputs": [
    {
     "name": "stdout",
     "output_type": "stream",
     "text": [
      "ok\n"
     ]
    }
   ],
   "source": [
    "x=5\n",
    "if x!=10:\n",
    "    print(\"ok\")"
   ]
  },
  {
   "cell_type": "code",
   "execution_count": 3,
   "metadata": {},
   "outputs": [
    {
     "name": "stdout",
     "output_type": "stream",
     "text": [
      "정수 하나를 입력하세요 : 3\n",
      "3 : 양수\n",
      "3 : 홀수\n",
      "\n"
     ]
    }
   ],
   "source": [
    "num=int(input(\"정수 하나를 입력하세요 : \"))\n",
    "if num>0:\n",
    "    print(f\"{num} : 양수\")\n",
    "else:\n",
    "    print(f\"{num} : 음수\")\n",
    "    \n",
    "if num%2==0:\n",
    "    print(f\"{num} : 짝수\\n\")\n",
    "else:\n",
    "    print(f\"{num} : 홀수\\n\")"
   ]
  },
  {
   "cell_type": "code",
   "execution_count": 4,
   "metadata": {},
   "outputs": [
    {
     "name": "stdout",
     "output_type": "stream",
     "text": [
      "한 명의 성적을 입력하세요 : 71\n",
      "성적 : B\n"
     ]
    }
   ],
   "source": [
    "score=int(input(\"한 명의 성적을 입력하세요 : \"))\n",
    "if score>=85:\n",
    "    print(\"성적 : A\")\n",
    "elif score>=70:\n",
    "    print(\"성적 : B\")\n",
    "elif score>=50:\n",
    "    print(\"성적 : C\")\n",
    "else:\n",
    "    print(\"성적 : F\")"
   ]
  },
  {
   "cell_type": "code",
   "execution_count": 5,
   "metadata": {},
   "outputs": [
    {
     "name": "stdout",
     "output_type": "stream",
     "text": [
      "가격을 입력하세요 : 3000\n",
      "쿠폰을 입력하세요 : cash300\n",
      "할인된 가격은 2700\n"
     ]
    }
   ],
   "source": [
    "price=int(input(\"가격을 입력하세요 : \"))\n",
    "coupon=input(\"쿠폰을 입력하세요 : \")\n",
    "\n",
    "if coupon==\"cash300\":\n",
    "    print(f\"할인된 가격은 {price-300}\")\n",
    "elif coupon==\"cash500\":\n",
    "    print(f\"할인된 가격은 {price-500}\")\n",
    "else:\n",
    "    print(\"잘못된 입력입니다.\")"
   ]
  },
  {
   "cell_type": "code",
   "execution_count": 6,
   "metadata": {},
   "outputs": [
    {
     "name": "stdout",
     "output_type": "stream",
     "text": [
      "가격을 입력하세요 : 3000\n",
      "할인된 가격은 2700\n"
     ]
    }
   ],
   "source": [
    "price=int(input(\"가격을 입력하세요 : \"))\n",
    "coupon=[\"cash300\",\"cash500\"]\n",
    "\n",
    "if coupon[0]:\n",
    "     print(f\"할인된 가격은 {price-300}\")\n",
    "elif coupon[1]:\n",
    "    print(f\"할인된 가격은 {price-500}\")\n",
    "else:\n",
    "    print(\"잘못된 입력입니다.\")"
   ]
  },
  {
   "cell_type": "code",
   "execution_count": 11,
   "metadata": {},
   "outputs": [
    {
     "name": "stdout",
     "output_type": "stream",
     "text": [
      "<class 'function'>\n"
     ]
    }
   ],
   "source": [
    "def mp_100(i):\n",
    "    return i*100\n",
    "\n",
    "mp_100(9)\n",
    "\n",
    "print(type(mp_100))"
   ]
  },
  {
   "cell_type": "code",
   "execution_count": 12,
   "metadata": {},
   "outputs": [
    {
     "name": "stdout",
     "output_type": "stream",
     "text": [
      "900\n"
     ]
    }
   ],
   "source": [
    "lambda_mp200=lambda i:i*100\n",
    "print(lambda_mp200(9))"
   ]
  },
  {
   "cell_type": "code",
   "execution_count": 15,
   "metadata": {},
   "outputs": [
    {
     "data": {
      "text/plain": [
       "9"
      ]
     },
     "execution_count": 15,
     "metadata": {},
     "output_type": "execute_result"
    }
   ],
   "source": [
    "(lambda x:x**2) (3)"
   ]
  },
  {
   "cell_type": "code",
   "execution_count": 16,
   "metadata": {},
   "outputs": [
    {
     "data": {
      "text/plain": [
       "9"
      ]
     },
     "execution_count": 16,
     "metadata": {},
     "output_type": "execute_result"
    }
   ],
   "source": [
    "mySquare=lambda x:x**2\n",
    "mySquare(3)"
   ]
  },
  {
   "cell_type": "code",
   "execution_count": 17,
   "metadata": {},
   "outputs": [
    {
     "data": {
      "text/plain": [
       "25"
      ]
     },
     "execution_count": 17,
     "metadata": {},
     "output_type": "execute_result"
    }
   ],
   "source": [
    "mySquare(5)"
   ]
  },
  {
   "cell_type": "code",
   "execution_count": 18,
   "metadata": {},
   "outputs": [
    {
     "data": {
      "text/plain": [
       "11"
      ]
     },
     "execution_count": 18,
     "metadata": {},
     "output_type": "execute_result"
    }
   ],
   "source": [
    "mySimpleFunc=lambda x,y,z:2*x+3*y+z\n",
    "mySimpleFunc(1,2,3)"
   ]
  },
  {
   "cell_type": "code",
   "execution_count": 19,
   "metadata": {},
   "outputs": [
    {
     "data": {
      "text/plain": [
       "[0, 3, -1]"
      ]
     },
     "execution_count": 19,
     "metadata": {},
     "output_type": "execute_result"
    }
   ],
   "source": [
    "[int(0.123),int(3.5124567),int(-1.31245)]"
   ]
  },
  {
   "cell_type": "code",
   "execution_count": 21,
   "metadata": {},
   "outputs": [
    {
     "data": {
      "text/plain": [
       "[1234, 5678, -9123]"
      ]
     },
     "execution_count": 21,
     "metadata": {},
     "output_type": "execute_result"
    }
   ],
   "source": [
    "[int('1234'),int('5678'),int('-9123')]"
   ]
  },
  {
   "cell_type": "code",
   "execution_count": 22,
   "metadata": {},
   "outputs": [
    {
     "data": {
      "text/plain": [
       "[0.0, 123.0, -567.0]"
      ]
     },
     "execution_count": 22,
     "metadata": {},
     "output_type": "execute_result"
    }
   ],
   "source": [
    "[float(0),float(123),float(-567)]"
   ]
  },
  {
   "cell_type": "code",
   "execution_count": 23,
   "metadata": {},
   "outputs": [
    {
     "data": {
      "text/plain": [
       "[10.0, 0.123, -567.89]"
      ]
     },
     "execution_count": 23,
     "metadata": {},
     "output_type": "execute_result"
    }
   ],
   "source": [
    "[float('10'),float('0.123'),float('-567.89')]"
   ]
  },
  {
   "cell_type": "code",
   "execution_count": 24,
   "metadata": {},
   "outputs": [
    {
     "data": {
      "text/plain": [
       "['123', '45678', '-987']"
      ]
     },
     "execution_count": 24,
     "metadata": {},
     "output_type": "execute_result"
    }
   ],
   "source": [
    "[str(123),str(45678),str(-987)]"
   ]
  },
  {
   "cell_type": "code",
   "execution_count": 25,
   "metadata": {},
   "outputs": [
    {
     "data": {
      "text/plain": [
       "['0.123', '345.678', '-5.456']"
      ]
     },
     "execution_count": 25,
     "metadata": {},
     "output_type": "execute_result"
    }
   ],
   "source": [
    "[str(0.123),str(345.678),str(-5.456)]"
   ]
  },
  {
   "cell_type": "code",
   "execution_count": 26,
   "metadata": {},
   "outputs": [],
   "source": [
    "list_data=['abc',1,2,'def']\n",
    "tuple_data=('abc',1,2,'def')\n",
    "set_data={'abc',1,2,'def'}"
   ]
  },
  {
   "cell_type": "code",
   "execution_count": 27,
   "metadata": {},
   "outputs": [
    {
     "data": {
      "text/plain": [
       "(list, tuple, set)"
      ]
     },
     "execution_count": 27,
     "metadata": {},
     "output_type": "execute_result"
    }
   ],
   "source": [
    "type(list_data), type(tuple_data),type(set_data)"
   ]
  },
  {
   "cell_type": "code",
   "execution_count": 29,
   "metadata": {},
   "outputs": [
    {
     "name": "stdout",
     "output_type": "stream",
     "text": [
      "리스트로 변환:  ['abc', 1, 2, 'def'] ['abc', 2, 1, 'def']\n"
     ]
    }
   ],
   "source": [
    "print(\"리스트로 변환: \",list(tuple_data),list(set_data))"
   ]
  },
  {
   "cell_type": "code",
   "execution_count": 30,
   "metadata": {},
   "outputs": [
    {
     "data": {
      "text/plain": [
       "tuple"
      ]
     },
     "execution_count": 30,
     "metadata": {},
     "output_type": "execute_result"
    }
   ],
   "source": [
    "type(tuple_data)"
   ]
  },
  {
   "cell_type": "code",
   "execution_count": 31,
   "metadata": {},
   "outputs": [
    {
     "data": {
      "text/plain": [
       "True"
      ]
     },
     "execution_count": 31,
     "metadata": {},
     "output_type": "execute_result"
    }
   ],
   "source": [
    "bool('a')"
   ]
  },
  {
   "cell_type": "code",
   "execution_count": 32,
   "metadata": {},
   "outputs": [
    {
     "data": {
      "text/plain": [
       "True"
      ]
     },
     "execution_count": 32,
     "metadata": {},
     "output_type": "execute_result"
    }
   ],
   "source": [
    "bool(' ')"
   ]
  },
  {
   "cell_type": "code",
   "execution_count": 33,
   "metadata": {},
   "outputs": [
    {
     "data": {
      "text/plain": [
       "False"
      ]
     },
     "execution_count": 33,
     "metadata": {},
     "output_type": "execute_result"
    }
   ],
   "source": [
    "bool('')"
   ]
  },
  {
   "cell_type": "code",
   "execution_count": 34,
   "metadata": {},
   "outputs": [
    {
     "data": {
      "text/plain": [
       "False"
      ]
     },
     "execution_count": 34,
     "metadata": {},
     "output_type": "execute_result"
    }
   ],
   "source": [
    "bool(None)"
   ]
  },
  {
   "cell_type": "code",
   "execution_count": 35,
   "metadata": {},
   "outputs": [
    {
     "data": {
      "text/plain": [
       "False"
      ]
     },
     "execution_count": 35,
     "metadata": {},
     "output_type": "execute_result"
    }
   ],
   "source": [
    "myFriends=[]\n",
    "bool(myFriends)"
   ]
  },
  {
   "cell_type": "code",
   "execution_count": 36,
   "metadata": {},
   "outputs": [
    {
     "data": {
      "text/plain": [
       "True"
      ]
     },
     "execution_count": 36,
     "metadata": {},
     "output_type": "execute_result"
    }
   ],
   "source": [
    "myFriends=[\"James\",\"Robert\",\"Lisa\"]\n",
    "bool(myFriends)"
   ]
  },
  {
   "cell_type": "code",
   "execution_count": 37,
   "metadata": {},
   "outputs": [
    {
     "data": {
      "text/plain": [
       "False"
      ]
     },
     "execution_count": 37,
     "metadata": {},
     "output_type": "execute_result"
    }
   ],
   "source": [
    "myNum=()\n",
    "bool(myNum)"
   ]
  },
  {
   "cell_type": "code",
   "execution_count": 38,
   "metadata": {},
   "outputs": [],
   "source": [
    "def print_name(name):\n",
    "    if bool(name):\n",
    "        print(\"입력된 이름: \",name)\n",
    "    else:\n",
    "        print(\"입력된 이름이 없음\")"
   ]
  },
  {
   "cell_type": "code",
   "execution_count": 39,
   "metadata": {},
   "outputs": [
    {
     "name": "stdout",
     "output_type": "stream",
     "text": [
      "입력된 이름이 없음\n"
     ]
    }
   ],
   "source": [
    "print_name(\"\")"
   ]
  },
  {
   "cell_type": "code",
   "execution_count": 40,
   "metadata": {},
   "outputs": [
    {
     "name": "stdout",
     "output_type": "stream",
     "text": [
      "입력된 이름:   \n"
     ]
    }
   ],
   "source": [
    "print_name(\" \")"
   ]
  },
  {
   "cell_type": "code",
   "execution_count": 41,
   "metadata": {},
   "outputs": [
    {
     "data": {
      "text/plain": [
       "[0, 99.5]"
      ]
     },
     "execution_count": 41,
     "metadata": {},
     "output_type": "execute_result"
    }
   ],
   "source": [
    "myNum=[10,5,12,4,56,99.5,0]\n",
    "[min(myNum),max(myNum)]"
   ]
  },
  {
   "cell_type": "code",
   "execution_count": 42,
   "metadata": {},
   "outputs": [
    {
     "data": {
      "text/plain": [
       "['Abc', 'efg']"
      ]
     },
     "execution_count": 42,
     "metadata": {},
     "output_type": "execute_result"
    }
   ],
   "source": [
    "myNum={\"Abc\",\"abc\",\"bcd\",\"efg\"}\n",
    "[min(myNum),max(myNum)]"
   ]
  },
  {
   "cell_type": "code",
   "execution_count": 43,
   "metadata": {},
   "outputs": [
    {
     "data": {
      "text/plain": [
       "[10, 10]"
      ]
     },
     "execution_count": 43,
     "metadata": {},
     "output_type": "execute_result"
    }
   ],
   "source": [
    "[abs(10),abs(-10)]"
   ]
  },
  {
   "cell_type": "code",
   "execution_count": 44,
   "metadata": {},
   "outputs": [
    {
     "data": {
      "text/plain": [
       "55"
      ]
     },
     "execution_count": 44,
     "metadata": {},
     "output_type": "execute_result"
    }
   ],
   "source": [
    "sumList=[1,2,3,4,5,6,7,8,9,10]\n",
    "sum(sumList)"
   ]
  },
  {
   "cell_type": "code",
   "execution_count": 45,
   "metadata": {},
   "outputs": [
    {
     "data": {
      "text/plain": [
       "5"
      ]
     },
     "execution_count": 45,
     "metadata": {},
     "output_type": "execute_result"
    }
   ],
   "source": [
    "len(\"ab cd\")"
   ]
  },
  {
   "cell_type": "code",
   "execution_count": 46,
   "metadata": {},
   "outputs": [
    {
     "data": {
      "text/plain": [
       "8"
      ]
     },
     "execution_count": 46,
     "metadata": {},
     "output_type": "execute_result"
    }
   ],
   "source": [
    "len([1,2,3,4,5,6,7,8])"
   ]
  },
  {
   "cell_type": "code",
   "execution_count": 48,
   "metadata": {},
   "outputs": [
    {
     "name": "stdout",
     "output_type": "stream",
     "text": [
      "총점:350,평균:4\n"
     ]
    }
   ],
   "source": [
    "scores=[90,80,95,85]\n",
    "score_sum=0\n",
    "subject_sum=0\n",
    "for score in scores:\n",
    "    score_sum=score_sum+score\n",
    "    subject_sum=subject_sum+1\n",
    "average=score_sum/subject_sum\n",
    "print(\"총점:{0},평균:{1}\".format(score_sum,subject_sum))"
   ]
  },
  {
   "cell_type": "code",
   "execution_count": 49,
   "metadata": {},
   "outputs": [
    {
     "name": "stdout",
     "output_type": "stream",
     "text": [
      "총점:350,평균:87.5\n"
     ]
    }
   ],
   "source": [
    "scores=[90,80,95,85]\n",
    "\n",
    "print(\"총점:{0},평균:{1}\".format(sum(scores),sum(scores)/len(scores)))"
   ]
  },
  {
   "cell_type": "code",
   "execution_count": 50,
   "metadata": {},
   "outputs": [
    {
     "name": "stdout",
     "output_type": "stream",
     "text": [
      "최하점수:80,최고점수:95\n"
     ]
    }
   ],
   "source": [
    "print(\"최하점수:{0},최고점수:{1}\".format(min(scores),max(scores)))"
   ]
  },
  {
   "cell_type": "code",
   "execution_count": 78,
   "metadata": {},
   "outputs": [
    {
     "name": "stdout",
     "output_type": "stream",
     "text": [
      "1\n",
      "100\n",
      "처음 값부터 마지막 값 까지의 합계:  5050\n"
     ]
    }
   ],
   "source": [
    "a=int(input())\n",
    "b=int(input())\n",
    "def sum(a,b):\n",
    "    result=0\n",
    "    for i in range(a,b+1):\n",
    "        result=result+i\n",
    "    return result\n",
    "    \n",
    "print(\"처음 값부터 마지막 값 까지의 합계: \",sum(a,b))"
   ]
  },
  {
   "cell_type": "code",
   "execution_count": 119,
   "metadata": {},
   "outputs": [
    {
     "data": {
      "text/plain": [
       "True"
      ]
     },
     "execution_count": 119,
     "metadata": {},
     "output_type": "execute_result"
    }
   ],
   "source": [
    "def prime(num):\n",
    "    for i in range(2,num):\n",
    "        if num %i==0: \n",
    "            return False\n",
    "    return True\n",
    "\n",
    "prime(2)"
   ]
  },
  {
   "cell_type": "code",
   "execution_count": 100,
   "metadata": {},
   "outputs": [
    {
     "name": "stdout",
     "output_type": "stream",
     "text": [
      "리스트의 평균:  2.0\n"
     ]
    }
   ],
   "source": [
    "def average(num):\n",
    "    sum=0\n",
    "    for i in num:\n",
    "        sum+=i\n",
    "    return sum/len(num) \n",
    "   \n",
    "print(\"리스트의 평균: \",average([1,2,3]))"
   ]
  },
  {
   "cell_type": "code",
   "execution_count": 102,
   "metadata": {},
   "outputs": [
    {
     "name": "stdout",
     "output_type": "stream",
     "text": [
      "25\n"
     ]
    }
   ],
   "source": [
    "def n_prime(num):\n",
    "    count=0\n",
    "    \n",
    "    for i in range(2,num+1): \n",
    "        if prime(i):\n",
    "            count+=1\n",
    "    return count\n",
    "print(n_prime(100))"
   ]
  },
  {
   "cell_type": "code",
   "execution_count": 121,
   "metadata": {},
   "outputs": [
    {
     "data": {
      "text/plain": [
       "True"
      ]
     },
     "execution_count": 121,
     "metadata": {},
     "output_type": "execute_result"
    }
   ],
   "source": [
    "def prime(num):\n",
    "    for i in range(2,num):\n",
    "        if num%i==0:\n",
    "            return False\n",
    "    return True\n",
    "prime(2)"
   ]
  },
  {
   "cell_type": "code",
   "execution_count": 123,
   "metadata": {},
   "outputs": [],
   "source": [
    "score=[90,95,100,75,85,92]\n",
    "score[2]=100"
   ]
  },
  {
   "cell_type": "code",
   "execution_count": 124,
   "metadata": {},
   "outputs": [
    {
     "data": {
      "text/plain": [
       "[90, 95, 100, 75, 85, 92]"
      ]
     },
     "execution_count": 124,
     "metadata": {},
     "output_type": "execute_result"
    }
   ],
   "source": [
    "score"
   ]
  },
  {
   "cell_type": "code",
   "execution_count": 125,
   "metadata": {},
   "outputs": [],
   "source": [
    "list=[\"B\",\"S\",\"D\",\"R\",\"P\"]\n",
    "del list[1]"
   ]
  },
  {
   "cell_type": "code",
   "execution_count": 126,
   "metadata": {},
   "outputs": [
    {
     "data": {
      "text/plain": [
       "['B', 'D', 'R', 'P']"
      ]
     },
     "execution_count": 126,
     "metadata": {},
     "output_type": "execute_result"
    }
   ],
   "source": [
    "list"
   ]
  },
  {
   "cell_type": "code",
   "execution_count": 127,
   "metadata": {},
   "outputs": [
    {
     "data": {
      "text/plain": [
       "True"
      ]
     },
     "execution_count": 127,
     "metadata": {},
     "output_type": "execute_result"
    }
   ],
   "source": [
    "bool(75 in score)"
   ]
  },
  {
   "cell_type": "code",
   "execution_count": 129,
   "metadata": {},
   "outputs": [
    {
     "data": {
      "text/plain": [
       "5"
      ]
     },
     "execution_count": 129,
     "metadata": {},
     "output_type": "execute_result"
    }
   ],
   "source": [
    "z=\"abcdh\"\n",
    "len(z)"
   ]
  },
  {
   "cell_type": "code",
   "execution_count": 135,
   "metadata": {},
   "outputs": [
    {
     "data": {
      "text/plain": [
       "'Data'"
      ]
     },
     "execution_count": 135,
     "metadata": {},
     "output_type": "execute_result"
    }
   ],
   "source": [
    "A=\"Data Scientist\"\n",
    "A[0:4]"
   ]
  },
  {
   "cell_type": "code",
   "execution_count": 137,
   "metadata": {},
   "outputs": [
    {
     "name": "stdout",
     "output_type": "stream",
     "text": [
      "('D', 'a', 't', 'a', ' ', 'S', 'c', 'i', 'e', 'n', 't', 'i', 's', 't')\n"
     ]
    }
   ],
   "source": [
    "JOB=\"Data Scientist\"\n",
    "print(tuple(JOB))\n"
   ]
  },
  {
   "cell_type": "code",
   "execution_count": 138,
   "metadata": {},
   "outputs": [
    {
     "name": "stdout",
     "output_type": "stream",
     "text": [
      "{' ', 'e', 'n', 'S', 'D', 'c', 'i', 's', 'a', 't'}\n"
     ]
    }
   ],
   "source": [
    "print(set(JOB))"
   ]
  },
  {
   "cell_type": "code",
   "execution_count": 139,
   "metadata": {},
   "outputs": [],
   "source": [
    "def hash(rows):\n",
    "    for x in range(rows):\n",
    "        count=x+1\n",
    "        print(\" \"*(rows-count)+\"#\"*count)"
   ]
  },
  {
   "cell_type": "code",
   "execution_count": 140,
   "metadata": {},
   "outputs": [
    {
     "name": "stdout",
     "output_type": "stream",
     "text": [
      "     #\n",
      "    ##\n",
      "   ###\n",
      "  ####\n",
      " #####\n",
      "######\n"
     ]
    }
   ],
   "source": [
    "hash(6)"
   ]
  },
  {
   "cell_type": "code",
   "execution_count": 147,
   "metadata": {},
   "outputs": [
    {
     "data": {
      "text/plain": [
       "['a', 'B', 'C', 'd', 'E', 'f', 'g', 'H']"
      ]
     },
     "execution_count": 147,
     "metadata": {},
     "output_type": "execute_result"
    }
   ],
   "source": [
    "A6=[\"A\",\"b\",\"c\",\"D\",\"e\",\"F\",\"G\",\"h\"]\n",
    "a6=[a.swapcase() for a in A6]\n",
    "a6"
   ]
  },
  {
   "cell_type": "code",
   "execution_count": 153,
   "metadata": {},
   "outputs": [],
   "source": [
    "class Fishcake:\n",
    "    def __init__(self,**kwargs): #**kwargs 는 속성 추가 위해서\n",
    "        self.size=10\n",
    "        self.flavor=\"팥\"\n",
    "        self.price=100\n",
    "        if \"size\" in kwargs:\n",
    "            self.size=kwargs.get(\"size\")\n",
    "        if \"flavor\" in kwargs:\n",
    "            self.flavor=kwargs.get(\"flavor\")\n",
    "        if \"price\" in kwargs:\n",
    "            self.price=kwargs.get(\"price\")\n",
    "            \n",
    "    def show(self):\n",
    "        print(\"붕어빵 크기 {}\".format(self.size))\n",
    "        print(\"붕어빵 맛 {}\".format(self.flavor))\n",
    "        print(\"붕어빵 가격 {}\".format(self.price))\n",
    "        print(\"*\"*60)"
   ]
  },
  {
   "cell_type": "code",
   "execution_count": 154,
   "metadata": {},
   "outputs": [
    {
     "name": "stdout",
     "output_type": "stream",
     "text": [
      "붕어빵 크기 10\n",
      "붕어빵 맛 팥\n",
      "붕어빵 가격 100\n",
      "************************************************************\n"
     ]
    }
   ],
   "source": [
    "fish1=Fishcake()\n",
    "fish1.show()"
   ]
  },
  {
   "cell_type": "code",
   "execution_count": 155,
   "metadata": {},
   "outputs": [],
   "source": [
    "fish2=Fishcake(size=20,price=300,flavor=\"슈크림\")\n",
    "fish3=Fishcake(size=15,price=200,flavor=\"초콜릿\")"
   ]
  },
  {
   "cell_type": "code",
   "execution_count": 156,
   "metadata": {},
   "outputs": [
    {
     "name": "stdout",
     "output_type": "stream",
     "text": [
      "붕어빵 크기 10\n",
      "붕어빵 맛 팥\n",
      "붕어빵 가격 100\n",
      "************************************************************\n",
      "붕어빵 크기 20\n",
      "붕어빵 맛 슈크림\n",
      "붕어빵 가격 300\n",
      "************************************************************\n",
      "붕어빵 크기 15\n",
      "붕어빵 맛 초콜릿\n",
      "붕어빵 가격 200\n",
      "************************************************************\n"
     ]
    }
   ],
   "source": [
    "fish1.show()\n",
    "fish2.show()\n",
    "fish3.show()"
   ]
  },
  {
   "cell_type": "code",
   "execution_count": 178,
   "metadata": {},
   "outputs": [],
   "source": [
    "class Customerprice(Fishcake):\n",
    "    def __init__(self,margin=1000,**kwargs):\n",
    "        super().__init__(**kwargs) ##Fishcake 클래스 상속\n",
    "        self._Customer_price=self.price+margin\n",
    "    \n",
    "    def show(self):\n",
    "        print(self.flavor,self._Customer_price)"
   ]
  },
  {
   "cell_type": "code",
   "execution_count": 181,
   "metadata": {},
   "outputs": [
    {
     "name": "stdout",
     "output_type": "stream",
     "text": [
      "팥 1500\n",
      "초콜릿 1200\n"
     ]
    }
   ],
   "source": [
    "fish1=Customerprice(size=20,price=500)\n",
    "fish2=Customerprice(size=15,price=200,flavor=\"초콜릿\")\n",
    "fish1.show()\n",
    "fish2.show()"
   ]
  },
  {
   "cell_type": "code",
   "execution_count": 174,
   "metadata": {},
   "outputs": [],
   "source": [
    "class Bicycle:\n",
    "    def __init__(self,wheel_size,color): ##속성 초기화\n",
    "        self.wheel_size=wheel_size\n",
    "        self.color=color\n",
    "    def move(self,speed):\n",
    "        print(\"자전거: 시속 {0}킬로미터로 전진\".format(speed))\n",
    "    def turn(self,direction):\n",
    "        print(\"자전거: {0}회전\".format(direction))\n",
    "    def stop(self):\n",
    "        print(\"자전거({0},{1}):정지\".format(self.wheel_size,self.color))"
   ]
  },
  {
   "cell_type": "code",
   "execution_count": 176,
   "metadata": {},
   "outputs": [],
   "source": [
    "bicycle1=Bicycle(25,\"white\")"
   ]
  },
  {
   "cell_type": "code",
   "execution_count": 177,
   "metadata": {},
   "outputs": [
    {
     "name": "stdout",
     "output_type": "stream",
     "text": [
      "자전거: 시속 30킬로미터로 전진\n",
      "자전거: 좌회전\n",
      "자전거(25,white):정지\n"
     ]
    }
   ],
   "source": [
    "bicycle1.move(30)\n",
    "bicycle1.turn('좌')\n",
    "bicycle1.stop()"
   ]
  },
  {
   "cell_type": "code",
   "execution_count": 182,
   "metadata": {},
   "outputs": [
    {
     "name": "stdout",
     "output_type": "stream",
     "text": [
      "27.0\n"
     ]
    }
   ],
   "source": [
    "import math\n",
    "num=math.pow(3,3)\n",
    "print(num)"
   ]
  },
  {
   "cell_type": "code",
   "execution_count": 183,
   "metadata": {},
   "outputs": [
    {
     "name": "stdout",
     "output_type": "stream",
     "text": [
      "Collecting numpy\n",
      "  Downloading numpy-1.19.1-cp37-cp37m-win_amd64.whl (12.9 MB)\n",
      "Installing collected packages: numpy\n",
      "Successfully installed numpy-1.19.1\n",
      "Note: you may need to restart the kernel to use updated packages.\n"
     ]
    }
   ],
   "source": [
    "pip install numpy"
   ]
  },
  {
   "cell_type": "code",
   "execution_count": 184,
   "metadata": {},
   "outputs": [],
   "source": [
    "import numpy"
   ]
  },
  {
   "cell_type": "code",
   "execution_count": 185,
   "metadata": {},
   "outputs": [
    {
     "name": "stdout",
     "output_type": "stream",
     "text": [
      "Collecting googletrans\n",
      "  Downloading googletrans-3.0.0.tar.gz (17 kB)\n",
      "Collecting httpx==0.13.3\n",
      "  Downloading httpx-0.13.3-py3-none-any.whl (55 kB)\n",
      "Collecting rfc3986<2,>=1.3\n",
      "  Downloading rfc3986-1.4.0-py2.py3-none-any.whl (31 kB)\n",
      "Collecting chardet==3.*\n",
      "  Downloading chardet-3.0.4-py2.py3-none-any.whl (133 kB)\n",
      "Collecting sniffio\n",
      "  Downloading sniffio-1.1.0-py3-none-any.whl (4.5 kB)\n",
      "Collecting idna==2.*\n",
      "  Downloading idna-2.10-py2.py3-none-any.whl (58 kB)\n",
      "Collecting hstspreload\n",
      "  Downloading hstspreload-2020.7.22-py3-none-any.whl (922 kB)\n",
      "Collecting httpcore==0.9.*\n",
      "  Downloading httpcore-0.9.1-py3-none-any.whl (42 kB)\n",
      "Collecting certifi\n",
      "  Downloading certifi-2020.6.20-py2.py3-none-any.whl (156 kB)\n",
      "Collecting h2==3.*\n",
      "  Downloading h2-3.2.0-py2.py3-none-any.whl (65 kB)\n",
      "Collecting h11<0.10,>=0.8\n",
      "  Downloading h11-0.9.0-py2.py3-none-any.whl (53 kB)\n",
      "Collecting hpack<4,>=3.0\n",
      "  Downloading hpack-3.0.0-py2.py3-none-any.whl (38 kB)\n",
      "Collecting hyperframe<6,>=5.2.0\n",
      "  Downloading hyperframe-5.2.0-py2.py3-none-any.whl (12 kB)\n",
      "Using legacy setup.py install for googletrans, since package 'wheel' is not installed.\n",
      "Installing collected packages: rfc3986, chardet, sniffio, idna, hstspreload, hpack, hyperframe, h2, h11, httpcore, certifi, httpx, googletrans\n",
      "    Running setup.py install for googletrans: started\n",
      "    Running setup.py install for googletrans: finished with status 'done'\n",
      "Successfully installed certifi-2020.6.20 chardet-3.0.4 googletrans-3.0.0 h11-0.9.0 h2-3.2.0 hpack-3.0.0 hstspreload-2020.7.22 httpcore-0.9.1 httpx-0.13.3 hyperframe-5.2.0 idna-2.10 rfc3986-1.4.0 sniffio-1.1.0\n",
      "Note: you may need to restart the kernel to use updated packages.\n"
     ]
    }
   ],
   "source": [
    "pip install googletrans"
   ]
  },
  {
   "cell_type": "code",
   "execution_count": 186,
   "metadata": {},
   "outputs": [
    {
     "name": "stdout",
     "output_type": "stream",
     "text": [
      "Collecting google-api-python-client\n",
      "  Downloading google_api_python_client-1.10.0-py2.py3-none-any.whl (60 kB)\n",
      "Collecting httplib2<1dev,>=0.9.2\n",
      "  Downloading httplib2-0.18.1-py3-none-any.whl (95 kB)\n",
      "Collecting google-auth>=1.16.0\n",
      "  Downloading google_auth-1.19.2-py2.py3-none-any.whl (91 kB)\n",
      "Collecting google-auth-httplib2>=0.0.3\n",
      "  Downloading google_auth_httplib2-0.0.4-py2.py3-none-any.whl (9.1 kB)\n",
      "Collecting google-api-core<2dev,>=1.18.0\n",
      "  Downloading google_api_core-1.22.0-py2.py3-none-any.whl (91 kB)\n",
      "Collecting uritemplate<4dev,>=3.0.0\n",
      "  Downloading uritemplate-3.0.1-py2.py3-none-any.whl (15 kB)\n",
      "Requirement already satisfied, skipping upgrade: six<2dev,>=1.6.1 in c:\\deep\\datab\\lib\\site-packages (from google-api-python-client) (1.15.0)\n",
      "Collecting rsa<5,>=3.1.4; python_version >= \"3\"\n",
      "  Downloading rsa-4.6-py3-none-any.whl (47 kB)\n",
      "Collecting pyasn1-modules>=0.2.1\n",
      "  Downloading pyasn1_modules-0.2.8-py2.py3-none-any.whl (155 kB)\n",
      "Collecting cachetools<5.0,>=2.0.0\n",
      "  Downloading cachetools-4.1.1-py3-none-any.whl (10 kB)\n",
      "Requirement already satisfied, skipping upgrade: setuptools>=40.3.0 in c:\\deep\\datab\\lib\\site-packages (from google-auth>=1.16.0->google-api-python-client) (41.2.0)\n",
      "Collecting pytz\n",
      "  Downloading pytz-2020.1-py2.py3-none-any.whl (510 kB)\n",
      "Collecting googleapis-common-protos<2.0dev,>=1.6.0\n",
      "  Downloading googleapis_common_protos-1.52.0-py2.py3-none-any.whl (100 kB)\n",
      "Collecting protobuf>=3.12.0\n",
      "  Downloading protobuf-3.12.2-cp37-cp37m-win_amd64.whl (1.0 MB)\n",
      "Collecting requests<3.0.0dev,>=2.18.0\n",
      "  Downloading requests-2.24.0-py2.py3-none-any.whl (61 kB)\n",
      "Collecting pyasn1>=0.1.3\n",
      "  Downloading pyasn1-0.4.8-py2.py3-none-any.whl (77 kB)\n",
      "Collecting urllib3!=1.25.0,!=1.25.1,<1.26,>=1.21.1\n",
      "  Downloading urllib3-1.25.10-py2.py3-none-any.whl (127 kB)\n",
      "Requirement already satisfied, skipping upgrade: chardet<4,>=3.0.2 in c:\\deep\\datab\\lib\\site-packages (from requests<3.0.0dev,>=2.18.0->google-api-core<2dev,>=1.18.0->google-api-python-client) (3.0.4)\n",
      "Requirement already satisfied, skipping upgrade: certifi>=2017.4.17 in c:\\deep\\datab\\lib\\site-packages (from requests<3.0.0dev,>=2.18.0->google-api-core<2dev,>=1.18.0->google-api-python-client) (2020.6.20)\n",
      "Requirement already satisfied, skipping upgrade: idna<3,>=2.5 in c:\\deep\\datab\\lib\\site-packages (from requests<3.0.0dev,>=2.18.0->google-api-core<2dev,>=1.18.0->google-api-python-client) (2.10)\n",
      "Installing collected packages: httplib2, pyasn1, rsa, pyasn1-modules, cachetools, google-auth, google-auth-httplib2, pytz, protobuf, googleapis-common-protos, urllib3, requests, google-api-core, uritemplate, google-api-python-client\n",
      "Successfully installed cachetools-4.1.1 google-api-core-1.22.0 google-api-python-client-1.10.0 google-auth-1.19.2 google-auth-httplib2-0.0.4 googleapis-common-protos-1.52.0 httplib2-0.18.1 protobuf-3.12.2 pyasn1-0.4.8 pyasn1-modules-0.2.8 pytz-2020.1 requests-2.24.0 rsa-4.6 uritemplate-3.0.1 urllib3-1.25.10\n",
      "Note: you may need to restart the kernel to use updated packages.\n"
     ]
    }
   ],
   "source": [
    "pip install --upgrade google-api-python-client"
   ]
  },
  {
   "cell_type": "code",
   "execution_count": 202,
   "metadata": {},
   "outputs": [],
   "source": [
    "class Car():\n",
    "    instance_count=0\n",
    "    \n",
    "    def __init__(self,size,color):\n",
    "        self.size=size\n",
    "        self.color=color\n",
    "        Car.instance_count=Car.instance_count+1\n",
    "        print(\"자동차 객체의 수:{0}\".format(Car.instance_count))\n",
    "        \n",
    "    def move(self):\n",
    "        print(\"자동차({0}&{1})가 움직입니다.\".format(self.size,self.color))"
   ]
  },
  {
   "cell_type": "code",
   "execution_count": 203,
   "metadata": {},
   "outputs": [
    {
     "name": "stdout",
     "output_type": "stream",
     "text": [
      "자동차 객체의 수:1\n"
     ]
    }
   ],
   "source": [
    "car1=Car('small','white')\n"
   ]
  },
  {
   "cell_type": "code",
   "execution_count": 204,
   "metadata": {},
   "outputs": [
    {
     "name": "stdout",
     "output_type": "stream",
     "text": [
      "자동차 객체의 수:2\n"
     ]
    }
   ],
   "source": [
    "car2=Car('big','black')"
   ]
  },
  {
   "cell_type": "code",
   "execution_count": 192,
   "metadata": {},
   "outputs": [
    {
     "name": "stdout",
     "output_type": "stream",
     "text": [
      "Car 클래스의 총 인스턴스 개수:2\n"
     ]
    }
   ],
   "source": [
    "print(\"Car 클래스의 총 인스턴스 개수:{0}\".format(Car.instance_count))"
   ]
  },
  {
   "cell_type": "code",
   "execution_count": 193,
   "metadata": {},
   "outputs": [
    {
     "name": "stdout",
     "output_type": "stream",
     "text": [
      "Car 클래스의 총 인스턴스 개수:2\n",
      "Car 클래스의 총 인스턴스 개수:2\n"
     ]
    }
   ],
   "source": [
    "print(\"Car 클래스의 총 인스턴스 개수:{0}\".format(car1.instance_count))\n",
    "print(\"Car 클래스의 총 인스턴스 개수:{0}\".format(car2.instance_count))"
   ]
  },
  {
   "cell_type": "code",
   "execution_count": 194,
   "metadata": {},
   "outputs": [
    {
     "name": "stdout",
     "output_type": "stream",
     "text": [
      "자동차(small&white)가 움직입니다.\n",
      "자동차(big&black)가 움직입니다.\n"
     ]
    }
   ],
   "source": [
    "car1.move()\n",
    "car2.move()"
   ]
  },
  {
   "cell_type": "code",
   "execution_count": 205,
   "metadata": {},
   "outputs": [],
   "source": [
    "class Car2():\n",
    "    count=0\n",
    "    \n",
    "    def __init__(self,size,num):\n",
    "        self.size=size\n",
    "        self.count=num\n",
    "        Car2.count=Car2.count+1\n",
    "        print(\"자동차 객체의 수: Car2.count={0}\".format(Car2.count))\n",
    "        print(\"인스턴스 변수 초기화: self.count={0}\".format(self.count))\n",
    "        \n",
    "    def move(self):\n",
    "        print(\"자동차({0}&{1})가 움직입니다.\".format(self.size,self.count))"
   ]
  },
  {
   "cell_type": "code",
   "execution_count": 209,
   "metadata": {},
   "outputs": [
    {
     "name": "stdout",
     "output_type": "stream",
     "text": [
      "자동차 객체의 수: Car2.count=7\n",
      "인스턴스 변수 초기화: self.count=20\n",
      "*********************************************\n",
      "자동차 객체의 수: Car2.count=8\n",
      "인스턴스 변수 초기화: self.count=30\n"
     ]
    }
   ],
   "source": [
    "car1=Car2(\"big\",20)\n",
    "print(\"*********************************************\")\n",
    "car2=Car2(\"small\",30)"
   ]
  },
  {
   "cell_type": "code",
   "execution_count": 210,
   "metadata": {},
   "outputs": [],
   "source": [
    "class Car():\n",
    "    instance_count=0\n",
    "    \n",
    "    def __init__(self,size,color):\n",
    "        self.size=size\n",
    "        self.color=color\n",
    "        Car.instance_count=Car.instance_count+1\n",
    "        print(\"자동차 객체의 수:{0}\".format(Car.instance_count))\n",
    "        \n",
    "    def move(self,speed):\n",
    "        self.speed=speed\n",
    "        print(\"자동차({0}&{1})가\".format(self.size,self.color),end='')\n",
    "        print(\"시속 {0}킬로미터로 전진\".format(self.speed))\n",
    "    \n",
    "    def auto_cruise(self):\n",
    "        print(\"자율 주행 모드\")\n",
    "        self.move(self.speed)"
   ]
  },
  {
   "cell_type": "code",
   "execution_count": 211,
   "metadata": {},
   "outputs": [
    {
     "name": "stdout",
     "output_type": "stream",
     "text": [
      "자동차 객체의 수:1\n",
      "자동차 객체의 수:2\n",
      "자동차(small&red)가시속 80킬로미터로 전진\n",
      "자동차(big&green)가시속 100킬로미터로 전진\n",
      "자율 주행 모드\n",
      "자동차(small&red)가시속 80킬로미터로 전진\n",
      "자율 주행 모드\n",
      "자동차(big&green)가시속 100킬로미터로 전진\n"
     ]
    }
   ],
   "source": [
    "car1=Car(\"small\",\"red\")\n",
    "car2=Car(\"big\",\"green\")\n",
    "\n",
    "car1.move(80)\n",
    "car2.move(100)\n",
    "\n",
    "car1.auto_cruise()\n",
    "car2.auto_cruise()"
   ]
  },
  {
   "cell_type": "code",
   "execution_count": 218,
   "metadata": {},
   "outputs": [
    {
     "name": "stdout",
     "output_type": "stream",
     "text": [
      "I came to Insa-dong to learn today.\n"
     ]
    }
   ],
   "source": [
    "from googletrans import Translator\n",
    "gt=Translator()\n",
    "word=gt.translate('나는 오늘 인사동으로 배우러 왓습니다.',dest='en',src='ko')\n",
    "print(word.text)"
   ]
  },
  {
   "cell_type": "code",
   "execution_count": 219,
   "metadata": {},
   "outputs": [
    {
     "data": {
      "text/plain": [
       "'Hello'"
      ]
     },
     "execution_count": 219,
     "metadata": {},
     "output_type": "execute_result"
    }
   ],
   "source": [
    "Translator().translate('안녕하세요',dest='en',src='ko').text"
   ]
  },
  {
   "cell_type": "code",
   "execution_count": 220,
   "metadata": {},
   "outputs": [
    {
     "name": "stdout",
     "output_type": "stream",
     "text": [
      "こんにちは。\n"
     ]
    }
   ],
   "source": [
    "from googletrans import Translator\n",
    "translator=Translator()\n",
    "trans=translator.translate('안녕하세요.',dest='ja',src='ko')\n",
    "print(trans.text)"
   ]
  },
  {
   "cell_type": "code",
   "execution_count": 221,
   "metadata": {},
   "outputs": [
    {
     "name": "stdout",
     "output_type": "stream",
     "text": [
      "Hello\n"
     ]
    }
   ],
   "source": [
    "import googletrans\n",
    "translator=googletrans.Translator()\n",
    "trans=translator.translate('안녕하세요',dest='en',src='ko')\n",
    "print(trans.text)"
   ]
  },
  {
   "cell_type": "code",
   "execution_count": 222,
   "metadata": {},
   "outputs": [
    {
     "name": "stdout",
     "output_type": "stream",
     "text": [
      "Hello\n"
     ]
    }
   ],
   "source": [
    "import googletrans as ts\n",
    "translator=ts.Translator()\n",
    "trans=translator.translate('안녕하세요',dest='en',src='ko')\n",
    "print(trans.text)"
   ]
  },
  {
   "cell_type": "code",
   "execution_count": 223,
   "metadata": {},
   "outputs": [
    {
     "name": "stdout",
     "output_type": "stream",
     "text": [
      "Hello\n"
     ]
    }
   ],
   "source": [
    "from googletrans import Translator as ts\n",
    "translator=ts()\n",
    "trans=translator.translate('안녕하세요',dest='en',src='ko')\n",
    "print(trans.text)"
   ]
  },
  {
   "cell_type": "code",
   "execution_count": 224,
   "metadata": {},
   "outputs": [
    {
     "data": {
      "text/plain": [
       "0.37217694305945637"
      ]
     },
     "execution_count": 224,
     "metadata": {},
     "output_type": "execute_result"
    }
   ],
   "source": [
    "import random\n",
    "random.random()"
   ]
  },
  {
   "cell_type": "code",
   "execution_count": 227,
   "metadata": {},
   "outputs": [
    {
     "name": "stdout",
     "output_type": "stream",
     "text": [
      "주사위 두 개의 숫자:3,1\n"
     ]
    }
   ],
   "source": [
    "import random\n",
    "dice1=random.randint(1,6)\n",
    "dice2=random.randint(1,6)\n",
    "print('주사위 두 개의 숫자:{0},{1}'.format(dice1,dice2)) "
   ]
  },
  {
   "cell_type": "code",
   "execution_count": 234,
   "metadata": {},
   "outputs": [
    {
     "data": {
      "text/plain": [
       "8"
      ]
     },
     "execution_count": 234,
     "metadata": {},
     "output_type": "execute_result"
    }
   ],
   "source": [
    "import random\n",
    "random.randrange(0,11,2)"
   ]
  },
  {
   "cell_type": "code",
   "execution_count": 235,
   "metadata": {},
   "outputs": [
    {
     "name": "stdout",
     "output_type": "stream",
     "text": [
      "num1:5,num2:0\n"
     ]
    }
   ],
   "source": [
    "import random\n",
    "num1=random.randrange(1,10,2)\n",
    "num2=random.randrange(0,100,10)\n",
    "print(\"num1:{0},num2:{1}\".format(num1,num2))"
   ]
  },
  {
   "cell_type": "code",
   "execution_count": 237,
   "metadata": {},
   "outputs": [
    {
     "data": {
      "text/plain": [
       "'스파게티'"
      ]
     },
     "execution_count": 237,
     "metadata": {},
     "output_type": "execute_result"
    }
   ],
   "source": [
    "menu=['비빔밥','된찌','볶음밥','불고기','스파게티','피자','탕수육']\n",
    "import random\n",
    "\n",
    "random.choice(menu)"
   ]
  },
  {
   "cell_type": "code",
   "execution_count": 240,
   "metadata": {},
   "outputs": [
    {
     "data": {
      "text/plain": [
       "[5, 3]"
      ]
     },
     "execution_count": 240,
     "metadata": {},
     "output_type": "execute_result"
    }
   ],
   "source": [
    "import random\n",
    "\n",
    "random.sample([1,2,3,4,5],2)"
   ]
  },
  {
   "cell_type": "code",
   "execution_count": 241,
   "metadata": {},
   "outputs": [
    {
     "name": "stdout",
     "output_type": "stream",
     "text": [
      "Collecting datetime\n",
      "  Downloading DateTime-4.3-py2.py3-none-any.whl (60 kB)\n",
      "Collecting zope.interface\n",
      "  Downloading zope.interface-5.1.0-cp37-cp37m-win_amd64.whl (194 kB)\n",
      "Requirement already satisfied: pytz in c:\\deep\\datab\\lib\\site-packages (from datetime) (2020.1)\n",
      "Requirement already satisfied: setuptools in c:\\deep\\datab\\lib\\site-packages (from zope.interface->datetime) (41.2.0)\n",
      "Installing collected packages: zope.interface, datetime\n",
      "Successfully installed datetime-4.3 zope.interface-5.1.0\n",
      "Note: you may need to restart the kernel to use updated packages.\n"
     ]
    }
   ],
   "source": [
    "pip install datetime"
   ]
  },
  {
   "cell_type": "code",
   "execution_count": 244,
   "metadata": {},
   "outputs": [
    {
     "name": "stdout",
     "output_type": "stream",
     "text": [
      "2019-03-01\n"
     ]
    }
   ],
   "source": [
    "import datetime\n",
    "\n",
    "set_day=datetime.date(2019,3,1)\n",
    "print(set_day)"
   ]
  },
  {
   "cell_type": "code",
   "execution_count": 245,
   "metadata": {},
   "outputs": [
    {
     "name": "stdout",
     "output_type": "stream",
     "text": [
      "100 days, 0:00:00\n"
     ]
    }
   ],
   "source": [
    "day1=datetime.date(2019,4,1)\n",
    "day2=datetime.date(2019,7,10)\n",
    "diff_day=day2-day1\n",
    "print(diff_day)"
   ]
  },
  {
   "cell_type": "code",
   "execution_count": 246,
   "metadata": {},
   "outputs": [
    {
     "data": {
      "text/plain": [
       "datetime.date"
      ]
     },
     "execution_count": 246,
     "metadata": {},
     "output_type": "execute_result"
    }
   ],
   "source": [
    "type(day1)"
   ]
  },
  {
   "cell_type": "code",
   "execution_count": 247,
   "metadata": {},
   "outputs": [
    {
     "data": {
      "text/plain": [
       "datetime.timedelta"
      ]
     },
     "execution_count": 247,
     "metadata": {},
     "output_type": "execute_result"
    }
   ],
   "source": [
    "type(diff_day)"
   ]
  },
  {
   "cell_type": "code",
   "execution_count": 248,
   "metadata": {},
   "outputs": [
    {
     "name": "stdout",
     "output_type": "stream",
     "text": [
      "2020-07-27\n"
     ]
    }
   ],
   "source": [
    "print(datetime.date.today())"
   ]
  },
  {
   "cell_type": "code",
   "execution_count": 249,
   "metadata": {},
   "outputs": [
    {
     "name": "stdout",
     "output_type": "stream",
     "text": [
      "2020-07-27 17:35:51.614684\n"
     ]
    }
   ],
   "source": [
    "now=datetime.datetime.now()\n",
    "print(now)"
   ]
  },
  {
   "cell_type": "code",
   "execution_count": 254,
   "metadata": {},
   "outputs": [
    {
     "name": "stdout",
     "output_type": "stream",
     "text": [
      "Date&Time: 2020-07-27, 17:35:51\n"
     ]
    }
   ],
   "source": [
    "print(\"Date&Time: {:%Y-%m-%d, %H:%M:%S}\".format(now))"
   ]
  },
  {
   "cell_type": "code",
   "execution_count": 255,
   "metadata": {},
   "outputs": [],
   "source": [
    "robot_name='R1'\n",
    "robot_pos=0\n",
    "\n",
    "def robot_move():\n",
    "    global robot_pos\n",
    "    robot_pos=robot_pos+1\n",
    "    print(\"{0} position: {1}\".format(robot_name,robot_pos))"
   ]
  },
  {
   "cell_type": "code",
   "execution_count": 257,
   "metadata": {},
   "outputs": [
    {
     "name": "stdout",
     "output_type": "stream",
     "text": [
      "R1 position: 1\n"
     ]
    }
   ],
   "source": [
    "robot_move()"
   ]
  },
  {
   "cell_type": "code",
   "execution_count": 260,
   "metadata": {},
   "outputs": [],
   "source": [
    "robot1_name='R1'\n",
    "robot1_pos=0\n",
    "\n",
    "def robot1_move():\n",
    "    global robot1_pos\n",
    "    robot1_pos=robot1_pos+1\n",
    "    print(\"{0} position: {1}\".format(robot1_name,robot1_pos))\n",
    "\n",
    "robot2_name='R2'\n",
    "robot2_pos=10\n",
    "\n",
    "def robot2_move():\n",
    "    global robot2_pos\n",
    "    robot2_pos=robot2_pos+1\n",
    "    print(\"{0} position: {1}\".format(robot2_name,robot2_pos))"
   ]
  },
  {
   "cell_type": "code",
   "execution_count": 261,
   "metadata": {},
   "outputs": [
    {
     "name": "stdout",
     "output_type": "stream",
     "text": [
      "R1 position: 1\n",
      "R2 position: 11\n"
     ]
    }
   ],
   "source": [
    "robot1_move()\n",
    "robot2_move()"
   ]
  },
  {
   "cell_type": "code",
   "execution_count": 262,
   "metadata": {},
   "outputs": [],
   "source": [
    "class Robot():\n",
    "    def __init__(self,name,pos):\n",
    "        self.name=name\n",
    "        self.pos=pos\n",
    "        \n",
    "    def move(self):\n",
    "        self.pos=self.pos+1\n",
    "        print(\"{0} position: {1}\".format(self.name,self.pos))"
   ]
  },
  {
   "cell_type": "code",
   "execution_count": 263,
   "metadata": {},
   "outputs": [],
   "source": [
    "robot1=Robot('R1',0)\n",
    "robot2=Robot('R2',10)"
   ]
  },
  {
   "cell_type": "code",
   "execution_count": 264,
   "metadata": {},
   "outputs": [
    {
     "name": "stdout",
     "output_type": "stream",
     "text": [
      "R1 position: 1\n",
      "R2 position: 11\n"
     ]
    }
   ],
   "source": [
    "robot1.move()\n",
    "robot2.move()"
   ]
  },
  {
   "cell_type": "code",
   "execution_count": 265,
   "metadata": {},
   "outputs": [
    {
     "name": "stdout",
     "output_type": "stream",
     "text": [
      "R3 position: 31\n",
      "R4 position: 41\n"
     ]
    }
   ],
   "source": [
    "myRobot3=Robot('R3',30)\n",
    "myRobot4=Robot('R4',40)\n",
    "\n",
    "myRobot3.move()\n",
    "myRobot4.move()"
   ]
  },
  {
   "cell_type": "code",
   "execution_count": 266,
   "metadata": {},
   "outputs": [
    {
     "data": {
      "text/plain": [
       "['에스프레소', '아메리카노', '카페라테', '카푸치노']"
      ]
     },
     "execution_count": 266,
     "metadata": {},
     "output_type": "execute_result"
    }
   ],
   "source": [
    "coffee_menu_str=\"에스프레소,아메리카노,카페라테,카푸치노\"\n",
    "coffee_menu_str.split(',')"
   ]
  },
  {
   "cell_type": "code",
   "execution_count": 267,
   "metadata": {},
   "outputs": [
    {
     "data": {
      "text/plain": [
       "['에스프레소', '아메리카노', '카페라테', '카푸치노']"
      ]
     },
     "execution_count": 267,
     "metadata": {},
     "output_type": "execute_result"
    }
   ],
   "source": [
    "\"에스프레소,아메리카노,카페라테,카푸치노\".split(',')"
   ]
  },
  {
   "cell_type": "code",
   "execution_count": 268,
   "metadata": {},
   "outputs": [
    {
     "data": {
      "text/plain": [
       "['에스프레소', '아메리카노', '카페라테', '카푸치노']"
      ]
     },
     "execution_count": 268,
     "metadata": {},
     "output_type": "execute_result"
    }
   ],
   "source": [
    "\"에스프레소 아메리카노 카페라테 카푸치노\".split(' ')"
   ]
  },
  {
   "cell_type": "code",
   "execution_count": 269,
   "metadata": {},
   "outputs": [
    {
     "data": {
      "text/plain": [
       "['에스프레소', '아메리카노', '카페라테', '카푸치노']"
      ]
     },
     "execution_count": 269,
     "metadata": {},
     "output_type": "execute_result"
    }
   ],
   "source": [
    "\"에스프레소 아메리카노 카페라테 카푸치노\".split()"
   ]
  },
  {
   "cell_type": "code",
   "execution_count": 270,
   "metadata": {},
   "outputs": [
    {
     "data": {
      "text/plain": [
       "['에스프레소', '아메리카노', '카페라테', '카푸치노']"
      ]
     },
     "execution_count": 270,
     "metadata": {},
     "output_type": "execute_result"
    }
   ],
   "source": [
    "\"  에스프레소 \\n\\n 아메리카노 \\n 카페라테 카푸치노\\n\\n\".split()"
   ]
  },
  {
   "cell_type": "code",
   "execution_count": 271,
   "metadata": {},
   "outputs": [
    {
     "data": {
      "text/plain": [
       "['에스프레소', '아메리카노', '카페라테 카푸치노']"
      ]
     },
     "execution_count": 271,
     "metadata": {},
     "output_type": "execute_result"
    }
   ],
   "source": [
    "\"에스프레소 아메리카노 카페라테 카푸치노\".split(maxsplit=2)"
   ]
  },
  {
   "cell_type": "code",
   "execution_count": 273,
   "metadata": {},
   "outputs": [
    {
     "name": "stdout",
     "output_type": "stream",
     "text": [
      "['+82', '01-2345-6789']\n",
      "국내전화\n"
     ]
    }
   ],
   "source": [
    "phone_number=\"+82-01-2345-6789\"\n",
    "split_num=phone_number.split(\"-\",1)\n",
    "print(split_num)\n",
    "print(\"국내전화\")"
   ]
  },
  {
   "cell_type": "code",
   "execution_count": 281,
   "metadata": {},
   "outputs": [
    {
     "name": "stdout",
     "output_type": "stream",
     "text": [
      "세 과목의 성적을 입력하세요 : 20 30 40\n",
      "불합격!\n"
     ]
    }
   ],
   "source": [
    "s1,s2,s3=map(int, input(\"세 과목의 성적을 입력하세요 : \").split())\n",
    "avg=(s1+s2+s3)/3\n",
    "\n",
    "if avg>=50:\n",
    "    print(\"합격!\")\n",
    "else:\n",
    "    print(\"불합격!\")"
   ]
  },
  {
   "cell_type": "code",
   "execution_count": 285,
   "metadata": {},
   "outputs": [
    {
     "name": "stdout",
     "output_type": "stream",
     "text": [
      "정수를 하나 입력하세요 : 15\n",
      "15 : 3으로 나누어 집니다.\n"
     ]
    }
   ],
   "source": [
    "num=int(input(\"정수를 하나 입력하세요 : \"))\n",
    "\n",
    "if num%2==0:\n",
    "    if num%3==0:\n",
    "        print(f\"{num} : 2와 3으로 나누어 집니다.\")\n",
    "    else:\n",
    "        print(f\"{num} : 2로 나누어 집니다.\")\n",
    "elif num%3==0:\n",
    "    print(f\"{num} : 3으로 나누어 집니다.\")\n",
    "else:\n",
    "    print(f\"{num} : 어느 것으로도 나누어지지 않습니다.\")"
   ]
  },
  {
   "cell_type": "code",
   "execution_count": 284,
   "metadata": {},
   "outputs": [
    {
     "name": "stdout",
     "output_type": "stream",
     "text": [
      "정수를 하나 입력하세요 : 30\n",
      "30 : 2와 3으로 나누어 집니다.\n"
     ]
    }
   ],
   "source": [
    "num=int(input(\"정수를 하나 입력하세요 : \"))\n",
    "if num%2==0:\n",
    "    if num%3==0:\n",
    "        print(f\"{num} : 2와 3으로 나누어 집니다.\")\n",
    "    else:\n",
    "        print(f\"{num} : 2로 나누어 집니다.\")\n",
    "elif num%3==0:\n",
    "    print(f\"{num} : 3으로 나누어 집니다.\")\n",
    "else:\n",
    "    print(f\"{num} : 어느 것으로도 나누어지지 않습니다.\")"
   ]
  },
  {
   "cell_type": "code",
   "execution_count": 286,
   "metadata": {},
   "outputs": [
    {
     "name": "stdout",
     "output_type": "stream",
     "text": [
      "연도를 입력하세요(띠) : 1995\n",
      "돼지\n"
     ]
    }
   ],
   "source": [
    "year=int(input(\"연도를 입력하세요(띠) : \"))\n",
    "zodiacSign=year%12\n",
    "\n",
    "if zodiacSign==0:\n",
    "    print('원숭이')\n",
    "elif zodiacSign==1:\n",
    "    print('닭')\n",
    "elif zodiacSign==2:\n",
    "    print('개')\n",
    "elif zodiacSign==3:\n",
    "    print('돼지')\n",
    "elif zodiacSign==4:\n",
    "    print('쥐')\n",
    "elif zodiacSign==5:\n",
    "    print('소')\n",
    "elif zodiacSign==6:\n",
    "    print('호랑이')\n",
    "elif zodiacSign==7:\n",
    "    print('토끼')\n",
    "elif zodiacSign==8:\n",
    "    print('용')\n",
    "elif zodiacSign==9:\n",
    "    print('뱀')\n",
    "elif zodiacSign==10:\n",
    "    print('말')\n",
    "else:\n",
    "    print('양')"
   ]
  },
  {
   "cell_type": "code",
   "execution_count": 289,
   "metadata": {},
   "outputs": [
    {
     "name": "stdout",
     "output_type": "stream",
     "text": [
      "두 개의 정수를 입력하세요(띄어쓰기) : 30 21\n",
      "오름차순 정렬: 21 30\n"
     ]
    }
   ],
   "source": [
    "n1,n2=map(int,input(\"두 개의 정수를 입력하세요(띄어쓰기) : \").split())\n",
    "if n1<n2:\n",
    "    print(\"오름차순 정렬:\",n1,n2)\n",
    "else:\n",
    "    print(\"오름차순 정렬:\",n2,n1)"
   ]
  },
  {
   "cell_type": "code",
   "execution_count": null,
   "metadata": {},
   "outputs": [],
   "source": [
    "n1,n2,n3=map(int,input(\"세 개의 정수를 입력하세요 : \").split())\n",
    "if n1<n2:\n",
    "    if n2<n3:\n",
    "        print(\"오름차순 정렬:\",n1,n2,n3)\n",
    "    elif n3<n1:\n",
    "        print(\"오름차순 정렬:\",n3,n1,n2)\n",
    "    else:\n",
    "        print(\"오름차순 정렬:\",n1,n3,n2)\n",
    "elif n2<n1:\n",
    "    if n1<n3:\n",
    "        print(\"오름차순 정렬:\",n2,n1,n3)\n",
    "    elif n3<n2:\n",
    "        print(\"오름차순 정렬:\",n3,n2,n1)\n",
    "    else:\n",
    "        print(\"오름차순 정렬:\",n2,n3,n1)"
   ]
  },
  {
   "cell_type": "code",
   "execution_count": null,
   "metadata": {},
   "outputs": [],
   "source": []
  },
  {
   "cell_type": "code",
   "execution_count": null,
   "metadata": {},
   "outputs": [],
   "source": []
  }
 ],
 "metadata": {
  "kernelspec": {
   "display_name": "Python 3",
   "language": "python",
   "name": "python3"
  },
  "language_info": {
   "codemirror_mode": {
    "name": "ipython",
    "version": 3
   },
   "file_extension": ".py",
   "mimetype": "text/x-python",
   "name": "python",
   "nbconvert_exporter": "python",
   "pygments_lexer": "ipython3",
   "version": "3.7.7"
  }
 },
 "nbformat": 4,
 "nbformat_minor": 4
}
